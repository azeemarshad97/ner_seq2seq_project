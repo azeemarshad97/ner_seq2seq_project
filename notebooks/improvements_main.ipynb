{
 "cells": [
  {
   "attachments": {},
   "cell_type": "markdown",
   "metadata": {},
   "source": [
    "## Model n°1: Transformer based model + CRF"
   ]
  },
  {
   "cell_type": "code",
   "execution_count": 1,
   "metadata": {},
   "outputs": [
    {
     "name": "stderr",
     "output_type": "stream",
     "text": [
      "d:\\azeem\\Documents\\UNIGE\\MSc CS\\Semester IV\\METL\\ner_seq2seq_project\\env\\Lib\\site-packages\\tensorflow_addons\\utils\\tfa_eol_msg.py:23: UserWarning: \n",
      "\n",
      "TensorFlow Addons (TFA) has ended development and introduction of new features.\n",
      "TFA has entered a minimal maintenance and release mode until a planned end of life in May 2024.\n",
      "Please modify downstream libraries to take dependencies from other repositories in our TensorFlow community (e.g. Keras, Keras-CV, and Keras-NLP). \n",
      "\n",
      "For more information see: https://github.com/tensorflow/addons/issues/2807 \n",
      "\n",
      "  warnings.warn(\n"
     ]
    },
    {
     "name": "stdout",
     "output_type": "stream",
     "text": [
      "Current working directory: d:\\azeem\\Documents\\UNIGE\\MSc CS\\Semester IV\\METL\\ner_seq2seq_project\\notebooks\n",
      "Parent directory: d:\\azeem\\Documents\\UNIGE\\MSc CS\\Semester IV\\METL\\ner_seq2seq_project\n",
      "Current working directory: d:\\azeem\\Documents\\UNIGE\\MSc CS\\Semester IV\\METL\\ner_seq2seq_project\n"
     ]
    }
   ],
   "source": [
    "import os\n",
    "from transformer_with_crf import *\n",
    "from src.utils.conlleval import *\n",
    "\n",
    "print(f'Current working directory: {os.getcwd()}')\n",
    "parent_dir = os.path.dirname(os.getcwd())\n",
    "print(f'Parent directory: {parent_dir}')\n",
    "os.chdir(parent_dir)\n",
    "print(f'Current working directory: {os.getcwd()}')\n",
    "# see http://stackoverflow.com/questions/1907993/autoreload-of-modules-in-ipython\n",
    "%load_ext autoreload\n",
    "\n",
    "# notebook will reload external python modules;\n",
    "%autoreload 2 "
   ]
  },
  {
   "cell_type": "code",
   "execution_count": 2,
   "metadata": {},
   "outputs": [
    {
     "name": "stdout",
     "output_type": "stream",
     "text": [
      "processing data and preparing vocabulary of size 20000...\n"
     ]
    },
    {
     "name": "stderr",
     "output_type": "stream",
     "text": [
      "Found cached dataset conll2003 (C:/Users/azeem/.cache/huggingface/datasets/conll2003/conll2003/1.0.0/9a4d16a94f8674ba3466315300359b0acd891b68b6c8743ddf60b9c702adce98)\n"
     ]
    },
    {
     "data": {
      "application/vnd.jupyter.widget-view+json": {
       "model_id": "c0237656a80a41c6a78b22c38461cef8",
       "version_major": 2,
       "version_minor": 0
      },
      "text/plain": [
       "  0%|          | 0/3 [00:00<?, ?it/s]"
      ]
     },
     "metadata": {},
     "output_type": "display_data"
    },
    {
     "name": "stdout",
     "output_type": "stream",
     "text": [
      "preparing datasets...\n",
      "creating model...\n",
      "\n",
      "training model...\n",
      "\n",
      "Epoch 1/2\n",
      "281/281 [==============================] - 23s 54ms/step - loss: 11.8266 - accuracy: 0.9254\n",
      "Epoch 2/2\n",
      "281/281 [==============================] - 13s 47ms/step - loss: 4.1969 - accuracy: 0.9708\n"
     ]
    }
   ],
   "source": [
    "vocab_size = 20000\n",
    "batch_size = 50\n",
    "epochs = 2\n",
    "sample_text = \"eu rejects german call to boycott british lamb\"\n",
    "\n",
    "\n",
    "print(f\"processing data and preparing vocabulary of size {vocab_size}...\")    \n",
    "conll_data = load_and_prepare_data()\n",
    "\n",
    "mapping = make_tag_lookup_table()\n",
    "\n",
    "# vocab_size = 20000\n",
    "vocabulary = get_vocabulary(conll_data, vocab_size)\n",
    "\n",
    "print(f\"preparing datasets...\")\n",
    "lookup_layer = keras.layers.StringLookup(vocabulary=vocabulary)\n",
    "\n",
    "# batch_size = 32\n",
    "train_dataset, val_dataset = prepare_datasets(vocabulary, batch_size)\n",
    "\n",
    "num_tags = len(mapping)\n",
    "\n",
    "print(f\"creating model...\\n\")\n",
    "ner_model = create_model(num_tags, vocab_size)\n",
    "\n",
    "print(f\"training model...\\n\")\n",
    "compile_and_fit(ner_model, train_dataset, epochs=epochs)"
   ]
  },
  {
   "cell_type": "code",
   "execution_count": 3,
   "metadata": {},
   "outputs": [
    {
     "name": "stdout",
     "output_type": "stream",
     "text": [
      "1/1 [==============================] - 1s 532ms/step\n"
     ]
    },
    {
     "ename": "TypeError",
     "evalue": "'numpy.int64' object is not iterable",
     "output_type": "error",
     "traceback": [
      "\u001b[1;31m---------------------------------------------------------------------------\u001b[0m",
      "\u001b[1;31mTypeError\u001b[0m                                 Traceback (most recent call last)",
      "Cell \u001b[1;32mIn[3], line 1\u001b[0m\n\u001b[1;32m----> 1\u001b[0m \u001b[39mprint\u001b[39m(predict_sample(ner_model, sample_text, mapping, lookup_layer))\n\u001b[0;32m      3\u001b[0m \u001b[39mprint\u001b[39m(\u001b[39mf\u001b[39m\u001b[39m\"\u001b[39m\u001b[39m\\n\u001b[39;00m\u001b[39mcalculating metrics...\u001b[39m\u001b[39m\\n\u001b[39;00m\u001b[39m\"\u001b[39m)\n\u001b[0;32m      4\u001b[0m res \u001b[39m=\u001b[39m calculate_metrics(val_dataset, ner_model, mapping)\n",
      "File \u001b[1;32md:\\azeem\\Documents\\UNIGE\\MSc CS\\Semester IV\\METL\\ner_seq2seq_project\\env\\Lib\\site-packages\\src\\model_upgrade1.py:210\u001b[0m, in \u001b[0;36mpredict_sample\u001b[1;34m(model, text, mapping, lookup_layer)\u001b[0m\n\u001b[0;32m    208\u001b[0m output \u001b[39m=\u001b[39m model\u001b[39m.\u001b[39mpredict(sample_input)\n\u001b[0;32m    209\u001b[0m prediction \u001b[39m=\u001b[39m np\u001b[39m.\u001b[39margmax(output, axis\u001b[39m=\u001b[39m\u001b[39m-\u001b[39m\u001b[39m1\u001b[39m)[\u001b[39m0\u001b[39m]\n\u001b[1;32m--> 210\u001b[0m prediction \u001b[39m=\u001b[39m [mapping[i] \u001b[39mfor\u001b[39;00m i \u001b[39min\u001b[39;00m prediction]\n\u001b[0;32m    211\u001b[0m \u001b[39mreturn\u001b[39;00m prediction\n",
      "\u001b[1;31mTypeError\u001b[0m: 'numpy.int64' object is not iterable"
     ]
    }
   ],
   "source": [
    "print(predict_sample(ner_model, sample_text, mapping, lookup_layer))\n",
    "\n",
    "print(f\"\\ncalculating metrics...\\n\")\n",
    "res = calculate_metrics(val_dataset, ner_model, mapping)\n",
    "\n",
    "# res is a tuple of (precision, recall, f1), print it out beautifully\n",
    "print(\"\\n\")\n",
    "print(f\"precision: \\t{res[0]:.2f}\")\n",
    "print(f\"   recall: \\t{res[1]:.2f}\")\n",
    "print(f\"       f1: \\t{res[2]:.2f}\")"
   ]
  },
  {
   "attachments": {},
   "cell_type": "markdown",
   "metadata": {},
   "source": [
    "## Model n°2: Transformer + CRF + character level information + early stopping"
   ]
  },
  {
   "cell_type": "code",
   "execution_count": null,
   "metadata": {},
   "outputs": [],
   "source": []
  },
  {
   "attachments": {},
   "cell_type": "markdown",
   "metadata": {},
   "source": [
    "## Model n°3: BiLstm with CRF"
   ]
  },
  {
   "cell_type": "code",
   "execution_count": 2,
   "metadata": {},
   "outputs": [
    {
     "name": "stdout",
     "output_type": "stream",
     "text": [
      "Current working directory: d:\\azeem\\Documents\\UNIGE\\MSc CS\\Semester IV\\METL\\ner_seq2seq_project\\notebooks\n",
      "Parent directory: d:\\azeem\\Documents\\UNIGE\\MSc CS\\Semester IV\\METL\\ner_seq2seq_project\n",
      "Current working directory: d:\\azeem\\Documents\\UNIGE\\MSc CS\\Semester IV\\METL\\ner_seq2seq_project\n"
     ]
    }
   ],
   "source": [
    "import os\n",
    "print(f'Current working directory: {os.getcwd()}')\n",
    "parent_dir = os.path.dirname(os.getcwd())\n",
    "print(f'Parent directory: {parent_dir}')\n",
    "os.chdir(parent_dir)\n",
    "print(f'Current working directory: {os.getcwd()}')\n",
    "# see http://stackoverflow.com/questions/1907993/autoreload-of-modules-in-ipython\n",
    "%load_ext autoreload\n",
    "\n",
    "# notebook will reload external python modules;\n",
    "%autoreload 2 "
   ]
  },
  {
   "cell_type": "code",
   "execution_count": 23,
   "metadata": {},
   "outputs": [],
   "source": [
    "import src.bilstm_with_crf as bcrf\n"
   ]
  },
  {
   "cell_type": "code",
   "execution_count": 24,
   "metadata": {},
   "outputs": [
    {
     "name": "stderr",
     "output_type": "stream",
     "text": [
      "Found cached dataset conll2003 (C:/Users/azeem/.cache/huggingface/datasets/conll2003/conll2003/1.0.0/9a4d16a94f8674ba3466315300359b0acd891b68b6c8743ddf60b9c702adce98)\n"
     ]
    },
    {
     "data": {
      "application/vnd.jupyter.widget-view+json": {
       "model_id": "330b2e8da0384eef8069a1509b806c15",
       "version_major": 2,
       "version_minor": 0
      },
      "text/plain": [
       "  0%|          | 0/3 [00:00<?, ?it/s]"
      ]
     },
     "metadata": {},
     "output_type": "display_data"
    },
    {
     "ename": "AttributeError",
     "evalue": "'Sequence' object has no attribute 'encoder'",
     "output_type": "error",
     "traceback": [
      "\u001b[1;31m---------------------------------------------------------------------------\u001b[0m",
      "\u001b[1;31mAttributeError\u001b[0m                            Traceback (most recent call last)",
      "Cell \u001b[1;32mIn[24], line 1\u001b[0m\n\u001b[1;32m----> 1\u001b[0m bcrf\u001b[39m.\u001b[39;49mmain()\n",
      "File \u001b[1;32md:\\azeem\\Documents\\UNIGE\\MSc CS\\Semester IV\\METL\\ner_seq2seq_project\\src\\bilstm_with_crf.py:83\u001b[0m, in \u001b[0;36mmain\u001b[1;34m()\u001b[0m\n\u001b[0;32m     81\u001b[0m \u001b[39m# Compute the maximum sequence length, vocabulary size, and number of tags\u001b[39;00m\n\u001b[0;32m     82\u001b[0m MAX_LEN \u001b[39m=\u001b[39m \u001b[39mmax\u001b[39m(\u001b[39mlen\u001b[39m(seq) \u001b[39mfor\u001b[39;00m seq \u001b[39min\u001b[39;00m X_train \u001b[39m+\u001b[39m X_val \u001b[39m+\u001b[39m X_test)\n\u001b[1;32m---> 83\u001b[0m VOCAB_SIZE \u001b[39m=\u001b[39m \u001b[39mlen\u001b[39m(dataset[\u001b[39m\"\u001b[39;49m\u001b[39mtrain\u001b[39;49m\u001b[39m\"\u001b[39;49m]\u001b[39m.\u001b[39;49mfeatures[\u001b[39m\"\u001b[39;49m\u001b[39mtokens\u001b[39;49m\u001b[39m\"\u001b[39;49m]\u001b[39m.\u001b[39;49mencoder)\n\u001b[0;32m     84\u001b[0m N_TAGS \u001b[39m=\u001b[39m dataset[\u001b[39m\"\u001b[39m\u001b[39mtrain\u001b[39m\u001b[39m\"\u001b[39m]\u001b[39m.\u001b[39mfeatures[\u001b[39m\"\u001b[39m\u001b[39mner_tags\u001b[39m\u001b[39m\"\u001b[39m]\u001b[39m.\u001b[39mfeature\u001b[39m.\u001b[39mnum_classes\n\u001b[0;32m     87\u001b[0m \u001b[39m# Create an instance of NERModel and train it\u001b[39;00m\n",
      "\u001b[1;31mAttributeError\u001b[0m: 'Sequence' object has no attribute 'encoder'"
     ]
    }
   ],
   "source": [
    "bcrf.main()"
   ]
  }
 ],
 "metadata": {
  "kernelspec": {
   "display_name": "env",
   "language": "python",
   "name": "python3"
  },
  "language_info": {
   "codemirror_mode": {
    "name": "ipython",
    "version": 3
   },
   "file_extension": ".py",
   "mimetype": "text/x-python",
   "name": "python",
   "nbconvert_exporter": "python",
   "pygments_lexer": "ipython3",
   "version": "3.11.2"
  },
  "orig_nbformat": 4
 },
 "nbformat": 4,
 "nbformat_minor": 2
}
